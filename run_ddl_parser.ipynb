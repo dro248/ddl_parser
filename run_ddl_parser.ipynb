{
 "cells": [
  {
   "cell_type": "code",
   "execution_count": 1,
   "id": "cb2cae06-e765-4084-9a94-259a2051dca9",
   "metadata": {},
   "outputs": [],
   "source": [
    "from glob import glob\n",
    "from ddl_parser import DDL2AlembicParser"
   ]
  },
  {
   "cell_type": "markdown",
   "id": "9af43547-3f54-45fe-a8e6-280c23a3033d",
   "metadata": {},
   "source": [
    "## Tables"
   ]
  },
  {
   "cell_type": "code",
   "execution_count": null,
   "id": "3ab579ee-6736-41f5-8bb9-2816de960b33",
   "metadata": {},
   "outputs": [],
   "source": [
    "files_list = [\n",
    "    'btg_fl_retailer_assgnt.txt',\n",
    "    'btg_pbc_retailer_assgnt.txt',\n",
    "    'btg_pbc_route_data.txt',\n",
    "    'btg_pep_calendar.txt',\n",
    "    'btg_ref_calendar.txt',\n",
    "    'fl_cust.txt',\n",
    "    'fl_prod.txt',\n",
    "    'fl_sales_2018.txt',\n",
    "    'fl_sales_2019.txt',\n",
    "    'fl_sales_2020.txt',\n",
    "    'fl_sales_2021.txt',\n",
    "    'gsc_msa_demo.txt',\n",
    "    'mdm_msa_fl_xref.txt',\n",
    "    'mdm_msa_pbc_xref.txt',\n",
    "    'new_pbc_mkt_loc_struct.txt',\n",
    "    'pbc_cust.txt',\n",
    "    'pbc_prod.txt',\n",
    "    'pbc_sales_2019.txt',\n",
    "    'pbc_sales_2020.txt',\n",
    "    'pbc_sales_2021.txt',\n",
    "]"
   ]
  },
  {
   "cell_type": "code",
   "execution_count": null,
   "id": "a2e3cb42-b857-43d2-b359-04f7c913e933",
   "metadata": {},
   "outputs": [],
   "source": [
    "tables_list = [file.split('.')[0] for file in files_list]\n",
    "tables_list"
   ]
  },
  {
   "cell_type": "code",
   "execution_count": null,
   "id": "e3940d00-7e0d-4a62-a8e4-834f806f4bea",
   "metadata": {},
   "outputs": [],
   "source": [
    "len(tables_list)"
   ]
  },
  {
   "cell_type": "markdown",
   "id": "08229e7e-a59e-44e5-9c24-b69b4ac69042",
   "metadata": {},
   "source": [
    "## Convert: DDL File --> Alembic"
   ]
  },
  {
   "cell_type": "code",
   "execution_count": null,
   "id": "47989960-4c41-48c7-a5cb-58541aa6933c",
   "metadata": {
    "tags": []
   },
   "outputs": [],
   "source": [
    "# read the file\n",
    "file_contents = open('sql/btg_all_tpt_tbls_hive_txt_ddl.hql').read()\n",
    "\n",
    "# split into list of DDLs\n",
    "ddl_list = file_contents.split(';')\n",
    "\n",
    "# remove trailing '\\n' entry if it exists\n",
    "ddl_list = ddl_list[:-1] if ddl_list[-1] == '\\n' else ddl_list"
   ]
  },
  {
   "cell_type": "code",
   "execution_count": null,
   "id": "caee7225-5941-48d2-bc90-f6d2ed757f0c",
   "metadata": {},
   "outputs": [],
   "source": [
    "found_tables = [DDL2AlembicParser().convert(raw_table)[0] for raw_table in ddl_list if DDL2AlembicParser().convert(raw_table)[0] in tables_list]\n",
    "found_tables"
   ]
  },
  {
   "cell_type": "code",
   "execution_count": null,
   "id": "4d5bac29-3a59-4a85-b93f-d6d728e4b292",
   "metadata": {},
   "outputs": [],
   "source": [
    "len(found_tables)"
   ]
  },
  {
   "cell_type": "markdown",
   "id": "a60292c0-6edb-4740-91d6-d5fb0feadccf",
   "metadata": {},
   "source": [
    "### Missing tables \n",
    "Are there any tables whose DDL I can't find?"
   ]
  },
  {
   "cell_type": "code",
   "execution_count": null,
   "id": "2b99540f-9a96-42a7-a4cc-b63ebcf74589",
   "metadata": {},
   "outputs": [],
   "source": [
    "set(tables_list) - set(found_tables)"
   ]
  },
  {
   "cell_type": "markdown",
   "id": "72a9ae95-39b3-4272-872c-39f3b6177bc0",
   "metadata": {},
   "source": [
    "## Write Alembic notation to file"
   ]
  },
  {
   "cell_type": "code",
   "execution_count": null,
   "id": "15896a9f-6ba1-4bce-a502-ce4d55a4c1d3",
   "metadata": {},
   "outputs": [],
   "source": [
    "type(DDL2AlembicParser().convert(ddl_list[0]))"
   ]
  },
  {
   "cell_type": "code",
   "execution_count": null,
   "id": "2b05c07b-4056-4b1e-ba8a-7d7fe014516f",
   "metadata": {},
   "outputs": [],
   "source": [
    "%%time\n",
    "with open('alembic_file.py', 'w') as py_file:\n",
    "    for idx, raw_table in enumerate(ddl_list):\n",
    "        stripped_raw_table = raw_table.strip()\n",
    "        \n",
    "        try:\n",
    "            table_name, formatted_table = DDL2AlembicParser().convert(stripped_raw_table)\n",
    "        except:\n",
    "            print(f\"Failed on: \\\"{stripped_raw_table.strip()[:30]}\\\"\")\n",
    "            print('-'*50)\n",
    "            continue\n",
    "            \n",
    "        if table_name in tables_list:\n",
    "            print(\"#\"*30,             file=py_file)\n",
    "            print(f\"#\\t{table_name}\", file=py_file)\n",
    "            print(\"#\"*30,             file=py_file)\n",
    "            print(formatted_table,    file=py_file)\n",
    "            \n",
    "            print(f\"wrote table:\\t({idx+1})\\t{table_name}\")\n",
    "        \n",
    "        else:\n",
    "            print(f\"skipped table:\\t({idx+1})\\t{table_name}\")\n",
    "            \n",
    "        print('-'*50)"
   ]
  },
  {
   "cell_type": "markdown",
   "id": "88961a93-0c34-4d7e-99d5-c363cf37222c",
   "metadata": {},
   "source": [
    "### The Missing table\n",
    "`btg_pbc_new_mkt_loc`"
   ]
  },
  {
   "cell_type": "code",
   "execution_count": 2,
   "id": "4e5380be-d6c4-4b53-bf9b-0c401e7ed0d4",
   "metadata": {},
   "outputs": [],
   "source": [
    "ddl = \"\"\"\n",
    "CREATE EXTERNAL TABLE dx_mvhs.btg_pbc_new_mkt_loc(\n",
    "  cust_id int,\n",
    "  nme varchar(35),\n",
    "  loc_prod_nme varchar(35),\n",
    "  loc_prod_mu_nme varchar(35),\n",
    "  dely_adr_strt1 varchar(35),\n",
    "  dely_adr_zip varchar(9),\n",
    "  dely_adr_city varchar(28),\n",
    "  dely_adr_cnty varchar(25),\n",
    "  dely_adr_state varchar(2),\n",
    "  hrchy_id int,\n",
    "  hrchy_nme varchar(50),\n",
    "  hrchy_owner_nme varchar(50),\n",
    "  av_lbl_id int,\n",
    "  av_lbl_nme varchar(50),\n",
    "  ref_org_id int,\n",
    "  ref_org_type varchar(3),\n",
    "  hq_id int,\n",
    "  hq_nme varchar(50),\n",
    "  hq_type varchar(3),\n",
    "  hq_ref_id int,\n",
    "  bu_id int,\n",
    "  bu_nme varchar(50),\n",
    "  bu_type varchar(3),\n",
    "  bu_ref_id int,\n",
    "  reg_id int,\n",
    "  reg_nme varchar(50),\n",
    "  reg_type varchar(3),\n",
    "  reg_ref_id int,\n",
    "  mu_id int,\n",
    "  mu_nme varchar(50),\n",
    "  mu_type varchar(3),\n",
    "  mu_ref_id int,\n",
    "  area_id int,\n",
    "  area_nme varchar(50),\n",
    "  area_type varchar(3),\n",
    "  area_ref_id int,\n",
    "  loc_id int,\n",
    "  loc_nme varchar(50))\n",
    "ROW FORMAT DELIMITED\n",
    "  FIELDS TERMINATED BY '|'\n",
    "STORED AS TEXTFILE\n",
    "LOCATION '${PRD_DIR}/${hivevar:hv_dbname}/btg_pbc_new_mkt_loc';\n",
    "\"\"\""
   ]
  },
  {
   "cell_type": "code",
   "execution_count": 7,
   "id": "15b189a7-8a7a-4813-86bc-bf06d554587e",
   "metadata": {},
   "outputs": [
    {
     "name": "stdout",
     "output_type": "stream",
     "text": [
      "##############################\n",
      "#\tbtg_pbc_new_mkt_loc\n",
      "##############################\n"
     ]
    }
   ],
   "source": [
    "print(\"#\"*30)\n",
    "print(f\"#\\tbtg_pbc_new_mkt_loc\")\n",
    "print(\"#\"*30)"
   ]
  },
  {
   "cell_type": "code",
   "execution_count": 5,
   "id": "5312d020-be99-4bd3-a3dd-529be8a29818",
   "metadata": {},
   "outputs": [
    {
     "name": "stdout",
     "output_type": "stream",
     "text": [
      "op.create_table(\n",
      "    'btg_pbc_new_mkt_loc',\n",
      "    sa.Column('cust_id', sa.INT()),\n",
      "    sa.Column('nme', sa.VARCHAR(35)),\n",
      "    sa.Column('loc_prod_nme', sa.VARCHAR(35)),\n",
      "    sa.Column('loc_prod_mu_nme', sa.VARCHAR(35)),\n",
      "    sa.Column('dely_adr_strt1', sa.VARCHAR(35)),\n",
      "    sa.Column('dely_adr_zip', sa.VARCHAR(9)),\n",
      "    sa.Column('dely_adr_city', sa.VARCHAR(28)),\n",
      "    sa.Column('dely_adr_cnty', sa.VARCHAR(25)),\n",
      "    sa.Column('dely_adr_state', sa.VARCHAR(2)),\n",
      "    sa.Column('hrchy_id', sa.INT()),\n",
      "    sa.Column('hrchy_nme', sa.VARCHAR(50)),\n",
      "    sa.Column('hrchy_owner_nme', sa.VARCHAR(50)),\n",
      "    sa.Column('av_lbl_id', sa.INT()),\n",
      "    sa.Column('av_lbl_nme', sa.VARCHAR(50)),\n",
      "    sa.Column('ref_org_id', sa.INT()),\n",
      "    sa.Column('ref_org_type', sa.VARCHAR(3)),\n",
      "    sa.Column('hq_id', sa.INT()),\n",
      "    sa.Column('hq_nme', sa.VARCHAR(50)),\n",
      "    sa.Column('hq_type', sa.VARCHAR(3)),\n",
      "    sa.Column('hq_ref_id', sa.INT()),\n",
      "    sa.Column('bu_id', sa.INT()),\n",
      "    sa.Column('bu_nme', sa.VARCHAR(50)),\n",
      "    sa.Column('bu_type', sa.VARCHAR(3)),\n",
      "    sa.Column('bu_ref_id', sa.INT()),\n",
      "    sa.Column('reg_id', sa.INT()),\n",
      "    sa.Column('reg_nme', sa.VARCHAR(50)),\n",
      "    sa.Column('reg_type', sa.VARCHAR(3)),\n",
      "    sa.Column('reg_ref_id', sa.INT()),\n",
      "    sa.Column('mu_id', sa.INT()),\n",
      "    sa.Column('mu_nme', sa.VARCHAR(50)),\n",
      "    sa.Column('mu_type', sa.VARCHAR(3)),\n",
      "    sa.Column('mu_ref_id', sa.INT()),\n",
      "    sa.Column('area_id', sa.INT()),\n",
      "    sa.Column('area_nme', sa.VARCHAR(50)),\n",
      "    sa.Column('area_type', sa.VARCHAR(3)),\n",
      "    sa.Column('area_ref_id', sa.INT()),\n",
      "    sa.Column('loc_id', sa.INT()),\n",
      "    sa.Column('loc_nme', sa.VARCHAR(50))\n",
      ")\n",
      "\n"
     ]
    }
   ],
   "source": [
    "print(DDL2AlembicParser().convert(ddl)[1])"
   ]
  },
  {
   "cell_type": "code",
   "execution_count": null,
   "id": "7c7dfcb3-9ec6-47c9-97e7-ba2c7a7d61e1",
   "metadata": {},
   "outputs": [],
   "source": []
  }
 ],
 "metadata": {
  "kernelspec": {
   "display_name": "sandbox",
   "language": "python",
   "name": "sandbox"
  },
  "language_info": {
   "codemirror_mode": {
    "name": "ipython",
    "version": 3
   },
   "file_extension": ".py",
   "mimetype": "text/x-python",
   "name": "python",
   "nbconvert_exporter": "python",
   "pygments_lexer": "ipython3",
   "version": "3.9.4"
  }
 },
 "nbformat": 4,
 "nbformat_minor": 5
}
