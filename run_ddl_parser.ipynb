{
 "cells": [
  {
   "cell_type": "code",
   "execution_count": 1,
   "id": "cb2cae06-e765-4084-9a94-259a2051dca9",
   "metadata": {},
   "outputs": [],
   "source": [
    "from glob import glob\n",
    "from ddl_parser import DDL2AlembicParser"
   ]
  },
  {
   "cell_type": "markdown",
   "id": "9af43547-3f54-45fe-a8e6-280c23a3033d",
   "metadata": {},
   "source": [
    "## Tables"
   ]
  },
  {
   "cell_type": "code",
   "execution_count": 2,
   "id": "3ab579ee-6736-41f5-8bb9-2816de960b33",
   "metadata": {},
   "outputs": [],
   "source": [
    "files_list = [\n",
    "    'btg_fl_retailer_assgnt.txt',\n",
    "    'btg_pbc_retailer_assgnt.txt',\n",
    "    'btg_pbc_route_data.txt',\n",
    "    'btg_pep_calendar.txt',\n",
    "    'btg_ref_calendar.txt',\n",
    "    'fl_cust.txt',\n",
    "    'fl_prod.txt',\n",
    "    'fl_sales_2018.txt',\n",
    "    'fl_sales_2019.txt',\n",
    "    'fl_sales_2020.txt',\n",
    "    'fl_sales_2021.txt',\n",
    "    'gsc_msa_demo.txt',\n",
    "    'mdm_msa_fl_xref.txt',\n",
    "    'mdm_msa_pbc_xref.txt',\n",
    "    'new_pbc_mkt_loc_struct.txt',\n",
    "    'pbc_cust.txt',\n",
    "    'pbc_prod.txt',\n",
    "    'pbc_sales_2019.txt',\n",
    "    'pbc_sales_2020.txt',\n",
    "    'pbc_sales_2021.txt',\n",
    "]"
   ]
  },
  {
   "cell_type": "code",
   "execution_count": 3,
   "id": "a2e3cb42-b857-43d2-b359-04f7c913e933",
   "metadata": {},
   "outputs": [
    {
     "data": {
      "text/plain": [
       "['btg_fl_retailer_assgnt',\n",
       " 'btg_pbc_retailer_assgnt',\n",
       " 'btg_pbc_route_data',\n",
       " 'btg_pep_calendar',\n",
       " 'btg_ref_calendar',\n",
       " 'fl_cust',\n",
       " 'fl_prod',\n",
       " 'fl_sales_2018',\n",
       " 'fl_sales_2019',\n",
       " 'fl_sales_2020',\n",
       " 'fl_sales_2021',\n",
       " 'gsc_msa_demo',\n",
       " 'mdm_msa_fl_xref',\n",
       " 'mdm_msa_pbc_xref',\n",
       " 'new_pbc_mkt_loc_struct',\n",
       " 'pbc_cust',\n",
       " 'pbc_prod',\n",
       " 'pbc_sales_2019',\n",
       " 'pbc_sales_2020',\n",
       " 'pbc_sales_2021']"
      ]
     },
     "execution_count": 3,
     "metadata": {},
     "output_type": "execute_result"
    }
   ],
   "source": [
    "tables_list = [file.split('.')[0] for file in files_list]\n",
    "tables_list"
   ]
  },
  {
   "cell_type": "code",
   "execution_count": 4,
   "id": "e3940d00-7e0d-4a62-a8e4-834f806f4bea",
   "metadata": {},
   "outputs": [
    {
     "data": {
      "text/plain": [
       "20"
      ]
     },
     "execution_count": 4,
     "metadata": {},
     "output_type": "execute_result"
    }
   ],
   "source": [
    "len(tables_list)"
   ]
  },
  {
   "cell_type": "markdown",
   "id": "08229e7e-a59e-44e5-9c24-b69b4ac69042",
   "metadata": {},
   "source": [
    "## Convert: DDL File --> Alembic"
   ]
  },
  {
   "cell_type": "code",
   "execution_count": 5,
   "id": "47989960-4c41-48c7-a5cb-58541aa6933c",
   "metadata": {
    "tags": []
   },
   "outputs": [],
   "source": [
    "# read the file\n",
    "file_contents = open('sql/btg_all_tpt_tbls_hive_txt_ddl.hql').read()\n",
    "\n",
    "# split into list of DDLs\n",
    "ddl_list = file_contents.split(';')\n",
    "\n",
    "# remove trailing '\\n' entry if it exists\n",
    "ddl_list = ddl_list[:-1] if ddl_list[-1] == '\\n' else ddl_list"
   ]
  },
  {
   "cell_type": "code",
   "execution_count": 6,
   "id": "caee7225-5941-48d2-bc90-f6d2ed757f0c",
   "metadata": {},
   "outputs": [
    {
     "data": {
      "text/plain": [
       "['fl_cust',\n",
       " 'fl_prod',\n",
       " 'fl_sales_2020',\n",
       " 'fl_sales_2021',\n",
       " 'fl_sales_2019',\n",
       " 'fl_sales_2018',\n",
       " 'pbc_cust',\n",
       " 'pbc_prod',\n",
       " 'pbc_sales_2020',\n",
       " 'pbc_sales_2021',\n",
       " 'pbc_sales_2019',\n",
       " 'gsc_msa_demo',\n",
       " 'mdm_msa_fl_xref',\n",
       " 'mdm_msa_pbc_xref',\n",
       " 'btg_pep_calendar',\n",
       " 'btg_ref_calendar',\n",
       " 'btg_pbc_route_data',\n",
       " 'btg_fl_retailer_assgnt',\n",
       " 'btg_pbc_retailer_assgnt']"
      ]
     },
     "execution_count": 6,
     "metadata": {},
     "output_type": "execute_result"
    }
   ],
   "source": [
    "found_tables = [DDL2AlembicParser().convert(raw_table)[0] for raw_table in ddl_list if DDL2AlembicParser().convert(raw_table)[0] in tables_list]\n",
    "found_tables"
   ]
  },
  {
   "cell_type": "code",
   "execution_count": 7,
   "id": "4d5bac29-3a59-4a85-b93f-d6d728e4b292",
   "metadata": {},
   "outputs": [
    {
     "data": {
      "text/plain": [
       "19"
      ]
     },
     "execution_count": 7,
     "metadata": {},
     "output_type": "execute_result"
    }
   ],
   "source": [
    "len(found_tables)"
   ]
  },
  {
   "cell_type": "markdown",
   "id": "a60292c0-6edb-4740-91d6-d5fb0feadccf",
   "metadata": {},
   "source": [
    "### Missing tables \n",
    "Are there any tables whose DDL I can't find?"
   ]
  },
  {
   "cell_type": "code",
   "execution_count": 8,
   "id": "2b99540f-9a96-42a7-a4cc-b63ebcf74589",
   "metadata": {},
   "outputs": [
    {
     "data": {
      "text/plain": [
       "{'new_pbc_mkt_loc_struct'}"
      ]
     },
     "execution_count": 8,
     "metadata": {},
     "output_type": "execute_result"
    }
   ],
   "source": [
    "set(tables_list) - set(found_tables)"
   ]
  },
  {
   "cell_type": "markdown",
   "id": "72a9ae95-39b3-4272-872c-39f3b6177bc0",
   "metadata": {},
   "source": [
    "## Write Alembic notation to file"
   ]
  },
  {
   "cell_type": "code",
   "execution_count": 9,
   "id": "15896a9f-6ba1-4bce-a502-ce4d55a4c1d3",
   "metadata": {},
   "outputs": [
    {
     "data": {
      "text/plain": [
       "tuple"
      ]
     },
     "execution_count": 9,
     "metadata": {},
     "output_type": "execute_result"
    }
   ],
   "source": [
    "type(DDL2AlembicParser().convert(ddl_list[0]))"
   ]
  },
  {
   "cell_type": "code",
   "execution_count": 10,
   "id": "2b05c07b-4056-4b1e-ba8a-7d7fe014516f",
   "metadata": {},
   "outputs": [
    {
     "name": "stdout",
     "output_type": "stream",
     "text": [
      "wrote table:\t(1)\tfl_cust\n",
      "--------------------------------------------------\n",
      "wrote table:\t(2)\tfl_prod\n",
      "--------------------------------------------------\n",
      "wrote table:\t(3)\tfl_sales_2020\n",
      "--------------------------------------------------\n",
      "wrote table:\t(4)\tfl_sales_2021\n",
      "--------------------------------------------------\n",
      "wrote table:\t(5)\tfl_sales_2019\n",
      "--------------------------------------------------\n",
      "skipped table:\t(6)\tfl_sales_2017\n",
      "--------------------------------------------------\n",
      "wrote table:\t(7)\tfl_sales_2018\n",
      "--------------------------------------------------\n",
      "wrote table:\t(8)\tpbc_cust\n",
      "--------------------------------------------------\n",
      "wrote table:\t(9)\tpbc_prod\n",
      "--------------------------------------------------\n",
      "wrote table:\t(10)\tpbc_sales_2020\n",
      "--------------------------------------------------\n",
      "wrote table:\t(11)\tpbc_sales_2021\n",
      "--------------------------------------------------\n",
      "wrote table:\t(12)\tpbc_sales_2019\n",
      "--------------------------------------------------\n",
      "skipped table:\t(13)\tpbc_sales_2017\n",
      "--------------------------------------------------\n",
      "skipped table:\t(14)\tpbc_sales_2018\n",
      "--------------------------------------------------\n",
      "wrote table:\t(15)\tgsc_msa_demo\n",
      "--------------------------------------------------\n",
      "wrote table:\t(16)\tmdm_msa_fl_xref\n",
      "--------------------------------------------------\n",
      "wrote table:\t(17)\tmdm_msa_pbc_xref\n",
      "--------------------------------------------------\n",
      "wrote table:\t(18)\tbtg_pep_calendar\n",
      "--------------------------------------------------\n",
      "wrote table:\t(19)\tbtg_ref_calendar\n",
      "--------------------------------------------------\n",
      "wrote table:\t(20)\tbtg_pbc_route_data\n",
      "--------------------------------------------------\n",
      "wrote table:\t(21)\tbtg_fl_retailer_assgnt\n",
      "--------------------------------------------------\n",
      "wrote table:\t(22)\tbtg_pbc_retailer_assgnt\n",
      "--------------------------------------------------\n",
      "Failed on: \"\"\n",
      "--------------------------------------------------\n",
      "CPU times: user 114 ms, sys: 4.46 ms, total: 119 ms\n",
      "Wall time: 118 ms\n"
     ]
    }
   ],
   "source": [
    "%%time\n",
    "with open('alembic_file.py', 'w') as py_file:\n",
    "    for idx, raw_table in enumerate(ddl_list):\n",
    "        stripped_raw_table = raw_table.strip()\n",
    "        \n",
    "        try:\n",
    "            table_name, formatted_table = DDL2AlembicParser().convert(stripped_raw_table)\n",
    "        except:\n",
    "            print(f\"Failed on: \\\"{stripped_raw_table.strip()[:30]}\\\"\")\n",
    "            print('-'*50)\n",
    "            continue\n",
    "            \n",
    "        if table_name in tables_list:\n",
    "            print(\"#\"*30,             file=py_file)\n",
    "            print(f\"#\\t{table_name}\", file=py_file)\n",
    "            print(\"#\"*30,             file=py_file)\n",
    "            print(formatted_table,    file=py_file)\n",
    "            \n",
    "            print(f\"wrote table:\\t({idx+1})\\t{table_name}\")\n",
    "        \n",
    "        else:\n",
    "            print(f\"skipped table:\\t({idx+1})\\t{table_name}\")\n",
    "            \n",
    "        print('-'*50)"
   ]
  }
 ],
 "metadata": {
  "kernelspec": {
   "display_name": "sandbox",
   "language": "python",
   "name": "sandbox"
  },
  "language_info": {
   "codemirror_mode": {
    "name": "ipython",
    "version": 3
   },
   "file_extension": ".py",
   "mimetype": "text/x-python",
   "name": "python",
   "nbconvert_exporter": "python",
   "pygments_lexer": "ipython3",
   "version": "3.9.4"
  }
 },
 "nbformat": 4,
 "nbformat_minor": 5
}
