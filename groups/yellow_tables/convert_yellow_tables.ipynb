{
 "cells": [
  {
   "cell_type": "markdown",
   "id": "6ca86a99-b512-4790-9f45-7bc58e7fa1e9",
   "metadata": {},
   "source": [
    "# **Yellow Tables**\n",
    "Convert DDL tables to Alembic"
   ]
  },
  {
   "cell_type": "code",
   "execution_count": 1,
   "id": "cb2cae06-e765-4084-9a94-259a2051dca9",
   "metadata": {},
   "outputs": [],
   "source": [
    "from glob import glob\n",
    "import sys\n",
    "sys.path.append('/Users/a80323573/Documents/pepsi/ddl_parser_project')\n",
    "\n",
    "from ddl_parser import DDL2AlembicParser"
   ]
  },
  {
   "cell_type": "markdown",
   "id": "9af43547-3f54-45fe-a8e6-280c23a3033d",
   "metadata": {},
   "source": [
    "### Tables"
   ]
  },
  {
   "cell_type": "code",
   "execution_count": 2,
   "id": "0ed8a6b5-f54c-4a3a-b130-ea8133981e0d",
   "metadata": {},
   "outputs": [
    {
     "data": {
      "text/plain": [
       "['input/create_cbsa_csv_file.hql',\n",
       " 'input/create_tbl_exp_geo.hql',\n",
       " 'input/create_tbl_fsv_gsc_z9_drivetime.hql',\n",
       " 'input/create_tbl_fsv_is_coeff_raw.hql',\n",
       " 'input/create_tbl_fsv_is_means_raw.hql',\n",
       " 'input/create_tbl_fsv_stores.hql',\n",
       " 'input/create_tbl_fvh_cs_coeff_raw.hql',\n",
       " 'input/create_tbl_fvh_cs_fs.hql',\n",
       " 'input/create_tbl_fvh_fs_coeff_raw.hql',\n",
       " 'input/create_tbl_fvh_life_stage_raw.hql',\n",
       " 'input/create_tbl_fvh_percentile.hql',\n",
       " 'input/create_tbl_fvh_t_test_raw.hql',\n",
       " 'input/create_tbl_gsc_msa_z9_drivetime.hql',\n",
       " 'input/create_tbl_iri_pepsi_fb_raw.hql',\n",
       " 'input/create_tbl_is_coeff_raw.hql',\n",
       " 'input/create_tbl_is_means_raw.hql',\n",
       " 'input/create_tbl_mvh_retailers_aldi.hql',\n",
       " 'input/create_tbl_mvh_retailers_tj.hql',\n",
       " 'input/create_tbl_mvh_retailers_wf.hql',\n",
       " 'input/dx_store_attr_DDL.hql']"
      ]
     },
     "execution_count": 2,
     "metadata": {},
     "output_type": "execute_result"
    }
   ],
   "source": [
    "files_list = sorted(glob('input/*.hql'))\n",
    "files_list"
   ]
  },
  {
   "cell_type": "markdown",
   "id": "32bdec1a-ab1c-4142-b59c-8d398050c665",
   "metadata": {},
   "source": [
    "#### Filenames"
   ]
  },
  {
   "cell_type": "code",
   "execution_count": 3,
   "id": "8b3f852d-a94d-40e7-8c4f-313eebc0fd1b",
   "metadata": {},
   "outputs": [],
   "source": [
    "upgrade_file = 'output/upgrade.py'\n",
    "downgrade_file = 'output/downgrade.py'"
   ]
  },
  {
   "cell_type": "markdown",
   "id": "08229e7e-a59e-44e5-9c24-b69b4ac69042",
   "metadata": {},
   "source": [
    "### Convert: DDL File --> Alembic"
   ]
  },
  {
   "cell_type": "code",
   "execution_count": 4,
   "id": "25eb48e8-7091-4fab-9199-1251339bcc3b",
   "metadata": {},
   "outputs": [],
   "source": [
    "def parser_output_is_valid(table_name: str, alembic_string: str) -> bool:\n",
    "    \"\"\"Identifies whether the DDL parser was successful in parsing the DDL string or not.\"\"\"\n",
    "        \n",
    "    # validate alembic_string has columns\n",
    "    return alembic_string.count('\\n') > 4"
   ]
  },
  {
   "cell_type": "markdown",
   "id": "4e5a893a-1686-4cec-a118-4f8dca5cc899",
   "metadata": {},
   "source": [
    "### Write `Upgrade` file "
   ]
  },
  {
   "cell_type": "code",
   "execution_count": 5,
   "id": "f64443dc-1da4-4641-832e-08a8a869a1b0",
   "metadata": {
    "tags": []
   },
   "outputs": [
    {
     "name": "stdout",
     "output_type": "stream",
     "text": [
      "Successfully parsed: cbsa_list\n",
      "Successfully parsed: exp_geo\n",
      "Successfully parsed: fsv_gsc_z9_drivetime\n",
      "Successfully parsed: fsv_is_coeff_raw\n",
      "Successfully parsed: fsv_is_means_raw\n",
      "Successfully parsed: fsv_stores\n",
      "Successfully parsed: fvh_cs_coeff_raw\n",
      "Successfully parsed: fvh_cs_fs\n",
      "Successfully parsed: fvh_fs_coeff_raw\n",
      "Successfully parsed: fvh_life_stage_raw\n",
      "Successfully parsed: fvh_percentile\n",
      "Successfully parsed: fvh_t_test_raw\n",
      "Successfully parsed: gsc_msa_z9_drivetime\n",
      "Successfully parsed: iri_pepsi_fb_raw\n",
      "Successfully parsed: is_coeff_raw\n",
      "Successfully parsed: is_means_raw\n",
      "Successfully parsed: mvh_retailers_aldi\n",
      "Successfully parsed: mvh_retailers_tj\n",
      "Successfully parsed: mvh_retailers_wf\n",
      "Successfully parsed: dx_store_attr\n"
     ]
    }
   ],
   "source": [
    "with open(upgrade_file, 'w') as py_file:\n",
    "    for file_name in files_list:\n",
    "        # read current file\n",
    "        file_contents = open(file_name).read().replace('\\t', ' ')\n",
    "\n",
    "        # parse contents\n",
    "        table_name, alembic_string = DDL2AlembicParser().convert(file_contents)\n",
    "\n",
    "        # validate response\n",
    "        if parser_output_is_valid(table_name, alembic_string):\n",
    "\n",
    "            # TODO: write the alembic to the output file\n",
    "            print(\"#\"*30,             file=py_file)\n",
    "            print(f\"#\\t{table_name}\", file=py_file)\n",
    "            print(\"#\"*30,             file=py_file)\n",
    "            print(alembic_string,     file=py_file)\n",
    "\n",
    "            print(f\"Successfully parsed: {table_name}\")\n",
    "        else:\n",
    "            print(f\"Failed to parse: {table_name}\")"
   ]
  },
  {
   "cell_type": "markdown",
   "id": "11a1ee0d-5104-4fc0-af3a-9353b917a52c",
   "metadata": {},
   "source": [
    "### Write `Downgrade` file "
   ]
  },
  {
   "cell_type": "code",
   "execution_count": 6,
   "id": "51709371-e5fa-468f-8238-aab71da9b6ad",
   "metadata": {
    "tags": []
   },
   "outputs": [
    {
     "name": "stdout",
     "output_type": "stream",
     "text": [
      "Successfully parsed: cbsa_list\n",
      "Successfully parsed: exp_geo\n",
      "Successfully parsed: fsv_gsc_z9_drivetime\n",
      "Successfully parsed: fsv_is_coeff_raw\n",
      "Successfully parsed: fsv_is_means_raw\n",
      "Successfully parsed: fsv_stores\n",
      "Successfully parsed: fvh_cs_coeff_raw\n",
      "Successfully parsed: fvh_cs_fs\n",
      "Successfully parsed: fvh_fs_coeff_raw\n",
      "Successfully parsed: fvh_life_stage_raw\n",
      "Successfully parsed: fvh_percentile\n",
      "Successfully parsed: fvh_t_test_raw\n",
      "Successfully parsed: gsc_msa_z9_drivetime\n",
      "Successfully parsed: iri_pepsi_fb_raw\n",
      "Successfully parsed: is_coeff_raw\n",
      "Successfully parsed: is_means_raw\n",
      "Successfully parsed: mvh_retailers_aldi\n",
      "Successfully parsed: mvh_retailers_tj\n",
      "Successfully parsed: mvh_retailers_wf\n",
      "Successfully parsed: dx_store_attr\n"
     ]
    }
   ],
   "source": [
    "with open(downgrade_file, 'w') as py_file:\n",
    "    for file_name in files_list:        \n",
    "        # read current file\n",
    "        file_contents = open(file_name).read().replace('\\t', ' ')\n",
    "\n",
    "        # parse contents\n",
    "        table_name, alembic_string = DDL2AlembicParser().convert(file_contents)\n",
    "\n",
    "        # validate response\n",
    "        if parser_output_is_valid(table_name, alembic_string):\n",
    "\n",
    "            # TODO: write the alembic to the output file\n",
    "            print(f\"\\top.drop_table('{table_name}')\", file=py_file)\n",
    "\n",
    "            print(f\"Successfully parsed: {table_name}\")\n",
    "        else:\n",
    "            print(f\"Failed to parse: {table_name}\")"
   ]
  },
  {
   "cell_type": "markdown",
   "id": "2a9d936c-40a1-4eec-9d3c-7a6e54ced187",
   "metadata": {},
   "source": [
    "## Fix Alembic Data types\n",
    "* sa.DOUBLE()  -> sf.NUMBER(34, 4)\n",
    "* sa.TINYINT() -> sf.NUMBER(38, 0)"
   ]
  },
  {
   "cell_type": "code",
   "execution_count": 7,
   "id": "235d226c-8da6-4e88-a57d-46ab0fd768ee",
   "metadata": {},
   "outputs": [],
   "source": [
    "raw_file_contents = open(upgrade_file, 'r').read()\n",
    "fixed_contents = raw_file_contents.replace(\"sa.DOUBLE()\", \"sf.NUMBER(34, 4)\").replace(\"sa.TINYINT()\", \"sf.NUMBER(38, 0)\")\n",
    "\n",
    "with open(upgrade_file, 'w') as f:\n",
    "    f.write(fixed_contents)"
   ]
  },
  {
   "cell_type": "code",
   "execution_count": null,
   "id": "5b7b755c-b31b-487f-8c35-4e7fe954eb90",
   "metadata": {},
   "outputs": [],
   "source": []
  },
  {
   "cell_type": "code",
   "execution_count": null,
   "id": "32817b4b-65da-42bb-be6b-a6441499aa39",
   "metadata": {},
   "outputs": [],
   "source": [
    "x = ', '.join([f\"d.${i}\" for i in range(1, 186)])\n",
    "print(x)"
   ]
  },
  {
   "cell_type": "code",
   "execution_count": null,
   "id": "32f567ab-616b-4df2-9962-3c674b11474c",
   "metadata": {},
   "outputs": [],
   "source": []
  }
 ],
 "metadata": {
  "kernelspec": {
   "display_name": "sandbox",
   "language": "python",
   "name": "sandbox"
  },
  "language_info": {
   "codemirror_mode": {
    "name": "ipython",
    "version": 3
   },
   "file_extension": ".py",
   "mimetype": "text/x-python",
   "name": "python",
   "nbconvert_exporter": "python",
   "pygments_lexer": "ipython3",
   "version": "3.9.4"
  }
 },
 "nbformat": 4,
 "nbformat_minor": 5
}
