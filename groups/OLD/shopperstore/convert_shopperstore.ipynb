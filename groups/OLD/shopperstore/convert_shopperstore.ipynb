{
 "cells": [
  {
   "cell_type": "markdown",
   "id": "6ca86a99-b512-4790-9f45-7bc58e7fa1e9",
   "metadata": {},
   "source": [
    "# **Shopperstore**\n",
    "Convert tables to Alembic"
   ]
  },
  {
   "cell_type": "code",
   "execution_count": 1,
   "id": "cb2cae06-e765-4084-9a94-259a2051dca9",
   "metadata": {},
   "outputs": [],
   "source": [
    "from glob import glob\n",
    "import sys\n",
    "sys.path.append('/Users/a80323573/Documents/pepsi/ddl_parser_project')\n",
    "\n",
    "from ddl_parser import DDL2AlembicParser"
   ]
  },
  {
   "cell_type": "markdown",
   "id": "9af43547-3f54-45fe-a8e6-280c23a3033d",
   "metadata": {},
   "source": [
    "### Tables"
   ]
  },
  {
   "cell_type": "code",
   "execution_count": 2,
   "id": "0ed8a6b5-f54c-4a3a-b130-ea8133981e0d",
   "metadata": {},
   "outputs": [
    {
     "data": {
      "text/plain": [
       "['input/create_tbl_fsv_sp_zip9_drivetime.hql',\n",
       " 'input/create_tbl_fsv_store_dim.hql',\n",
       " 'input/create_tbl_fsv_store_dim_temp1.hql',\n",
       " 'input/create_tbl_fsv_store_dim_temp2.hql',\n",
       " 'input/create_tbl_fsv_store_fact_temp1.hql',\n",
       " 'input/create_tbl_fsv_sp_hh_all_store.hql',\n",
       " 'input/create_tbl_fsv_sp_msa_drivetime.hql',\n",
       " 'input/create_tbl_mvh_hh_all_store.hql',\n",
       " 'input/create_tbl_mvh_hh_all_store_dw.hql',\n",
       " 'input/create_tbl_fsv_store_fact.hql']"
      ]
     },
     "execution_count": 2,
     "metadata": {},
     "output_type": "execute_result"
    }
   ],
   "source": [
    "files_list = glob('input/*.hql')\n",
    "files_list"
   ]
  },
  {
   "cell_type": "code",
   "execution_count": 3,
   "id": "8b3f852d-a94d-40e7-8c4f-313eebc0fd1b",
   "metadata": {},
   "outputs": [],
   "source": [
    "output_file = 'output/alembic.py'"
   ]
  },
  {
   "cell_type": "markdown",
   "id": "08229e7e-a59e-44e5-9c24-b69b4ac69042",
   "metadata": {},
   "source": [
    "### Convert: DDL File --> Alembic"
   ]
  },
  {
   "cell_type": "code",
   "execution_count": 4,
   "id": "25eb48e8-7091-4fab-9199-1251339bcc3b",
   "metadata": {},
   "outputs": [],
   "source": [
    "def parser_output_is_valid(table_name: str, alembic_string: str) -> bool:\n",
    "    \"\"\"Identifies whether the DDL parser was successful in parsing the DDL string or not.\"\"\"\n",
    "        \n",
    "    # validate alembic_string has columns\n",
    "    return alembic_string.count('\\n') > 4"
   ]
  },
  {
   "cell_type": "code",
   "execution_count": 5,
   "id": "f64443dc-1da4-4641-832e-08a8a869a1b0",
   "metadata": {},
   "outputs": [
    {
     "name": "stdout",
     "output_type": "stream",
     "text": [
      "Successfully parsed: fsv_sp_zip9_drivetime\n",
      "Successfully parsed: fsv_store_dim\n",
      "Successfully parsed: fsv_store_dim_temp1\n",
      "Successfully parsed: fsv_store_dim_temp2\n",
      "Successfully parsed: fsv_store_fact_temp1\n",
      "Successfully parsed: fsv_sp_hh_all_store\n",
      "Successfully parsed: fsv_sp_msa_drivetime\n",
      "Successfully parsed: mvh_hh_all_store\n",
      "Successfully parsed: mvh_hh_all_store_dw\n",
      "Successfully parsed: fsv_store_fact\n"
     ]
    }
   ],
   "source": [
    "with open(output_file, 'w') as py_file:\n",
    "    for file_name in files_list:        \n",
    "        # read current file\n",
    "        file_contents = open(file_name).read().replace('\\t', ' ')\n",
    "\n",
    "        # parse contents\n",
    "        table_name, alembic_string = DDL2AlembicParser().convert(file_contents)\n",
    "\n",
    "        # validate response\n",
    "        if parser_output_is_valid(table_name, alembic_string):\n",
    "\n",
    "            # TODO: write the alembic to the output file\n",
    "            print(\"#\"*30,             file=py_file)\n",
    "            print(f\"#\\t{table_name}\", file=py_file)\n",
    "            print(\"#\"*30,             file=py_file)\n",
    "            print(alembic_string,     file=py_file)\n",
    "\n",
    "            print(f\"Successfully parsed: {table_name}\")\n",
    "        else:\n",
    "            print(f\"Failed to parse: {table_name}\")"
   ]
  }
 ],
 "metadata": {
  "kernelspec": {
   "display_name": "sandbox",
   "language": "python",
   "name": "sandbox"
  },
  "language_info": {
   "codemirror_mode": {
    "name": "ipython",
    "version": 3
   },
   "file_extension": ".py",
   "mimetype": "text/x-python",
   "name": "python",
   "nbconvert_exporter": "python",
   "pygments_lexer": "ipython3",
   "version": "3.9.4"
  }
 },
 "nbformat": 4,
 "nbformat_minor": 5
}
